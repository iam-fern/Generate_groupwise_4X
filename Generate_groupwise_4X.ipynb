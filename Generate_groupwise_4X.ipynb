{
  "nbformat": 4,
  "nbformat_minor": 0,
  "metadata": {
    "colab": {
      "name": "Generate_groupwise_4X.ipynb",
      "provenance": [],
      "include_colab_link": true
    },
    "kernelspec": {
      "name": "python3",
      "display_name": "Python 3"
    },
    "language_info": {
      "name": "python"
    }
  },
  "cells": [
    {
      "cell_type": "markdown",
      "metadata": {
        "id": "view-in-github",
        "colab_type": "text"
      },
      "source": [
        "<a href=\"https://colab.research.google.com/github/iam-fern/Generate_groupwise_4X/blob/main/Generate_groupwise_4X.ipynb\" target=\"_parent\"><img src=\"https://colab.research.google.com/assets/colab-badge.svg\" alt=\"Open In Colab\"/></a>"
      ]
    },
    {
      "cell_type": "markdown",
      "metadata": {
        "id": "byXsWNU60cf1"
      },
      "source": [
        "#Generating random numbers from a uniform distribution\n",
        "https://subscription.packtpub.com/book/big_data_and_business_intelligence/9781787125698/12/ch25lvl1sec126/generating-random-numbers-from-a-uniform-distribution"
      ]
    },
    {
      "cell_type": "code",
      "metadata": {
        "id": "v72YiLRL0bNa",
        "colab": {
          "base_uri": "https://localhost:8080/"
        },
        "outputId": "674e2361-8aaf-493e-8060-4d925793d48d"
      },
      "source": [
        "import pandas as pd\n",
        "import numpy as np\n",
        "import scipy as sp\n",
        "import matplotlib.pyplot as plt\n",
        "from scipy.stats import norm\n",
        "from numpy.random import normal\n",
        "import statistics\n",
        "import statistics as stats\n",
        "import scipy.stats as ss\n",
        "from scipy import stats\n",
        "import scipy.stats as stats\n",
        "import random\n",
        "import statsmodels.api as sm\n",
        "%matplotlib inline\n",
        "from google.colab import files\n",
        "import math"
      ],
      "execution_count": 1,
      "outputs": [
        {
          "output_type": "stream",
          "name": "stderr",
          "text": [
            "/usr/local/lib/python3.7/dist-packages/statsmodels/tools/_testing.py:19: FutureWarning: pandas.util.testing is deprecated. Use the functions in the public API at pandas.testing instead.\n",
            "  import pandas.util.testing as tm\n"
          ]
        }
      ]
    },
    {
      "cell_type": "code",
      "source": [
        "sp.random.seed(314157)"
      ],
      "metadata": {
        "id": "QAjrLrdL5T5D"
      },
      "execution_count": 2,
      "outputs": []
    },
    {
      "cell_type": "code",
      "source": [
        "n=20\n",
        "rep=0\n",
        "table_data_all=pd.DataFrame({\"rep\":[]})\n",
        "for i in range(1000):\n",
        "    data = pd.DataFrame({\"X1\" : sp.random.uniform(20, 100, n),\n",
        "                         \"X2\" : sp.random.uniform(20, 100, n),\n",
        "                         \"X3\" : sp.random.uniform(20, 100, n),\n",
        "                         \"X4\" : sp.random.uniform(20, 100, n)})\n",
        "    table_data = data.copy()\n",
        "\n",
        "    table_data.loc[:math.floor(n/2),\"e\"] = table_data.loc[:math.floor(n/2),\"X2\"].apply(lambda X2: np.random.normal(0, math.sqrt(0.1)))\n",
        "    table_data.loc[math.floor(n/2):,\"e\"] = table_data.loc[math.floor(n/2):,\"X2\"].apply(lambda X2: np.random.normal(0, math.sqrt(0.9)))\n",
        "    # display(table_data.loc[:math.floor(n/2),\"e\"])\n",
        "    # display(table_data.loc[math.floor(n/2):,\"e\"])\n",
        "    # ==========================================\n",
        "\n",
        "    # table_data = data_new.copy()\n",
        "\n",
        "\n",
        "    table_data[\"Y\"] = 10 + table_data[\"X1\"] + table_data[\"X2\"] + table_data[\"X3\"] + table_data[\"X4\"] + table_data[\"e\"]\n",
        "    \n",
        "    table_data=table_data.reset_index(drop=True).reset_index()\n",
        "    table_data[\"rep\"]=rep\n",
        "    new_data = table_data.copy()\n",
        "\n",
        "    # ==========================================\n",
        "    x = new_data[[\"X1\", \"X2\", \"X3\", \"X4\"]]\n",
        "    y = new_data[\"Y\"]\n",
        "    x = sm.add_constant(x)\n",
        "    model = sm.OLS(y, x).fit()\n",
        "    y_pred = model.predict(x)\n",
        "\n",
        "    df = pd.DataFrame({\"Actual\": y, \"Predicted\": y_pred})\n",
        "\n",
        "    table_data_new = pd.DataFrame({\"x1\"    : new_data[\"X1\"],\n",
        "                                   \"x2\"    : new_data[\"X2\"],\n",
        "                                   \"x3\"    : new_data[\"X3\"],\n",
        "                                   \"x4\"    : new_data[\"X4\"],\n",
        "                                   \"e\"     : new_data[\"e\"],\n",
        "                                   \"Y\"     : df[\"Actual\"],\n",
        "                                   \"y_hat\" : df[\"Predicted\"]})\n",
        "    table_data_new[\"e_hat\"] = table_data_new[\"Y\"] - table_data_new[\"y_hat\"]\n",
        "    table_data_new[\"rep\"] = rep\n",
        "    table_data_new = table_data_new.reset_index()\n",
        "    table_data_new\n",
        "    # ==========================================\n",
        "    table_data_all=pd.concat([table_data_all,table_data_new],axis=0,ignore_index=True,sort=False)\n",
        "    rep+=1\n",
        "    if rep==1000:\n",
        "      break\n",
        "table_data_all=table_data_all.set_index([\"rep\", \"index\"])\n",
        "table_data_all"
      ],
      "metadata": {
        "id": "cIq_D6Q0MvvH",
        "outputId": "bbe5c455-b17d-422d-a722-90edc9b1495d",
        "colab": {
          "base_uri": "https://localhost:8080/",
          "height": 510
        }
      },
      "execution_count": 31,
      "outputs": [
        {
          "output_type": "stream",
          "name": "stderr",
          "text": [
            "/usr/local/lib/python3.7/dist-packages/statsmodels/tsa/tsatools.py:117: FutureWarning: In a future version of pandas all arguments of concat except for the argument 'objs' will be keyword-only\n",
            "  x = pd.concat(x[::order], 1)\n"
          ]
        },
        {
          "output_type": "execute_result",
          "data": {
            "text/plain": [
              "                    x1         x2         x3         x4         e           Y  \\\n",
              "rep   index                                                                     \n",
              "0.0   0.0    20.576637  76.024232  67.066480  88.282887 -0.158879  261.791357   \n",
              "      1.0    45.152384  88.892153  91.133863  69.290395  0.065212  304.534008   \n",
              "      2.0    31.417271  44.273060  69.867181  95.829555  0.720275  252.107342   \n",
              "      3.0    68.258350  76.459160  40.799554  60.942273 -0.108470  256.350866   \n",
              "      4.0    68.308275  94.550857  90.148574  37.775008 -0.029944  300.752769   \n",
              "...                ...        ...        ...        ...       ...         ...   \n",
              "999.0 15.0   23.200909  63.936296  56.043692  69.980640 -0.641664  222.519873   \n",
              "      16.0   76.580215  55.732009  38.253253  68.498213  0.006189  249.069879   \n",
              "      17.0   32.433411  64.334236  93.152689  69.568100  0.460708  269.949144   \n",
              "      18.0   70.288278  56.288806  26.627096  43.231983 -0.997448  205.438715   \n",
              "      19.0   27.627257  24.130116  44.941665  59.194333 -0.650827  165.242544   \n",
              "\n",
              "                  y_hat     e_hat  \n",
              "rep   index                        \n",
              "0.0   0.0    262.934414 -1.143057  \n",
              "      1.0    304.490538  0.043469  \n",
              "      2.0    252.101620  0.005722  \n",
              "      3.0    256.726288 -0.375421  \n",
              "      4.0    300.102554  0.650215  \n",
              "...                 ...       ...  \n",
              "999.0 15.0   223.114952 -0.595079  \n",
              "      16.0   248.744179  0.325700  \n",
              "      17.0   269.389585  0.559559  \n",
              "      18.0   206.281792 -0.843077  \n",
              "      19.0   165.799979 -0.557435  \n",
              "\n",
              "[20000 rows x 8 columns]"
            ],
            "text/html": [
              "\n",
              "  <div id=\"df-8b09b72a-3b14-47fe-8380-03f535309cef\">\n",
              "    <div class=\"colab-df-container\">\n",
              "      <div>\n",
              "<style scoped>\n",
              "    .dataframe tbody tr th:only-of-type {\n",
              "        vertical-align: middle;\n",
              "    }\n",
              "\n",
              "    .dataframe tbody tr th {\n",
              "        vertical-align: top;\n",
              "    }\n",
              "\n",
              "    .dataframe thead th {\n",
              "        text-align: right;\n",
              "    }\n",
              "</style>\n",
              "<table border=\"1\" class=\"dataframe\">\n",
              "  <thead>\n",
              "    <tr style=\"text-align: right;\">\n",
              "      <th></th>\n",
              "      <th></th>\n",
              "      <th>x1</th>\n",
              "      <th>x2</th>\n",
              "      <th>x3</th>\n",
              "      <th>x4</th>\n",
              "      <th>e</th>\n",
              "      <th>Y</th>\n",
              "      <th>y_hat</th>\n",
              "      <th>e_hat</th>\n",
              "    </tr>\n",
              "    <tr>\n",
              "      <th>rep</th>\n",
              "      <th>index</th>\n",
              "      <th></th>\n",
              "      <th></th>\n",
              "      <th></th>\n",
              "      <th></th>\n",
              "      <th></th>\n",
              "      <th></th>\n",
              "      <th></th>\n",
              "      <th></th>\n",
              "    </tr>\n",
              "  </thead>\n",
              "  <tbody>\n",
              "    <tr>\n",
              "      <th rowspan=\"5\" valign=\"top\">0.0</th>\n",
              "      <th>0.0</th>\n",
              "      <td>20.576637</td>\n",
              "      <td>76.024232</td>\n",
              "      <td>67.066480</td>\n",
              "      <td>88.282887</td>\n",
              "      <td>-0.158879</td>\n",
              "      <td>261.791357</td>\n",
              "      <td>262.934414</td>\n",
              "      <td>-1.143057</td>\n",
              "    </tr>\n",
              "    <tr>\n",
              "      <th>1.0</th>\n",
              "      <td>45.152384</td>\n",
              "      <td>88.892153</td>\n",
              "      <td>91.133863</td>\n",
              "      <td>69.290395</td>\n",
              "      <td>0.065212</td>\n",
              "      <td>304.534008</td>\n",
              "      <td>304.490538</td>\n",
              "      <td>0.043469</td>\n",
              "    </tr>\n",
              "    <tr>\n",
              "      <th>2.0</th>\n",
              "      <td>31.417271</td>\n",
              "      <td>44.273060</td>\n",
              "      <td>69.867181</td>\n",
              "      <td>95.829555</td>\n",
              "      <td>0.720275</td>\n",
              "      <td>252.107342</td>\n",
              "      <td>252.101620</td>\n",
              "      <td>0.005722</td>\n",
              "    </tr>\n",
              "    <tr>\n",
              "      <th>3.0</th>\n",
              "      <td>68.258350</td>\n",
              "      <td>76.459160</td>\n",
              "      <td>40.799554</td>\n",
              "      <td>60.942273</td>\n",
              "      <td>-0.108470</td>\n",
              "      <td>256.350866</td>\n",
              "      <td>256.726288</td>\n",
              "      <td>-0.375421</td>\n",
              "    </tr>\n",
              "    <tr>\n",
              "      <th>4.0</th>\n",
              "      <td>68.308275</td>\n",
              "      <td>94.550857</td>\n",
              "      <td>90.148574</td>\n",
              "      <td>37.775008</td>\n",
              "      <td>-0.029944</td>\n",
              "      <td>300.752769</td>\n",
              "      <td>300.102554</td>\n",
              "      <td>0.650215</td>\n",
              "    </tr>\n",
              "    <tr>\n",
              "      <th>...</th>\n",
              "      <th>...</th>\n",
              "      <td>...</td>\n",
              "      <td>...</td>\n",
              "      <td>...</td>\n",
              "      <td>...</td>\n",
              "      <td>...</td>\n",
              "      <td>...</td>\n",
              "      <td>...</td>\n",
              "      <td>...</td>\n",
              "    </tr>\n",
              "    <tr>\n",
              "      <th rowspan=\"5\" valign=\"top\">999.0</th>\n",
              "      <th>15.0</th>\n",
              "      <td>23.200909</td>\n",
              "      <td>63.936296</td>\n",
              "      <td>56.043692</td>\n",
              "      <td>69.980640</td>\n",
              "      <td>-0.641664</td>\n",
              "      <td>222.519873</td>\n",
              "      <td>223.114952</td>\n",
              "      <td>-0.595079</td>\n",
              "    </tr>\n",
              "    <tr>\n",
              "      <th>16.0</th>\n",
              "      <td>76.580215</td>\n",
              "      <td>55.732009</td>\n",
              "      <td>38.253253</td>\n",
              "      <td>68.498213</td>\n",
              "      <td>0.006189</td>\n",
              "      <td>249.069879</td>\n",
              "      <td>248.744179</td>\n",
              "      <td>0.325700</td>\n",
              "    </tr>\n",
              "    <tr>\n",
              "      <th>17.0</th>\n",
              "      <td>32.433411</td>\n",
              "      <td>64.334236</td>\n",
              "      <td>93.152689</td>\n",
              "      <td>69.568100</td>\n",
              "      <td>0.460708</td>\n",
              "      <td>269.949144</td>\n",
              "      <td>269.389585</td>\n",
              "      <td>0.559559</td>\n",
              "    </tr>\n",
              "    <tr>\n",
              "      <th>18.0</th>\n",
              "      <td>70.288278</td>\n",
              "      <td>56.288806</td>\n",
              "      <td>26.627096</td>\n",
              "      <td>43.231983</td>\n",
              "      <td>-0.997448</td>\n",
              "      <td>205.438715</td>\n",
              "      <td>206.281792</td>\n",
              "      <td>-0.843077</td>\n",
              "    </tr>\n",
              "    <tr>\n",
              "      <th>19.0</th>\n",
              "      <td>27.627257</td>\n",
              "      <td>24.130116</td>\n",
              "      <td>44.941665</td>\n",
              "      <td>59.194333</td>\n",
              "      <td>-0.650827</td>\n",
              "      <td>165.242544</td>\n",
              "      <td>165.799979</td>\n",
              "      <td>-0.557435</td>\n",
              "    </tr>\n",
              "  </tbody>\n",
              "</table>\n",
              "<p>20000 rows × 8 columns</p>\n",
              "</div>\n",
              "      <button class=\"colab-df-convert\" onclick=\"convertToInteractive('df-8b09b72a-3b14-47fe-8380-03f535309cef')\"\n",
              "              title=\"Convert this dataframe to an interactive table.\"\n",
              "              style=\"display:none;\">\n",
              "        \n",
              "  <svg xmlns=\"http://www.w3.org/2000/svg\" height=\"24px\"viewBox=\"0 0 24 24\"\n",
              "       width=\"24px\">\n",
              "    <path d=\"M0 0h24v24H0V0z\" fill=\"none\"/>\n",
              "    <path d=\"M18.56 5.44l.94 2.06.94-2.06 2.06-.94-2.06-.94-.94-2.06-.94 2.06-2.06.94zm-11 1L8.5 8.5l.94-2.06 2.06-.94-2.06-.94L8.5 2.5l-.94 2.06-2.06.94zm10 10l.94 2.06.94-2.06 2.06-.94-2.06-.94-.94-2.06-.94 2.06-2.06.94z\"/><path d=\"M17.41 7.96l-1.37-1.37c-.4-.4-.92-.59-1.43-.59-.52 0-1.04.2-1.43.59L10.3 9.45l-7.72 7.72c-.78.78-.78 2.05 0 2.83L4 21.41c.39.39.9.59 1.41.59.51 0 1.02-.2 1.41-.59l7.78-7.78 2.81-2.81c.8-.78.8-2.07 0-2.86zM5.41 20L4 18.59l7.72-7.72 1.47 1.35L5.41 20z\"/>\n",
              "  </svg>\n",
              "      </button>\n",
              "      \n",
              "  <style>\n",
              "    .colab-df-container {\n",
              "      display:flex;\n",
              "      flex-wrap:wrap;\n",
              "      gap: 12px;\n",
              "    }\n",
              "\n",
              "    .colab-df-convert {\n",
              "      background-color: #E8F0FE;\n",
              "      border: none;\n",
              "      border-radius: 50%;\n",
              "      cursor: pointer;\n",
              "      display: none;\n",
              "      fill: #1967D2;\n",
              "      height: 32px;\n",
              "      padding: 0 0 0 0;\n",
              "      width: 32px;\n",
              "    }\n",
              "\n",
              "    .colab-df-convert:hover {\n",
              "      background-color: #E2EBFA;\n",
              "      box-shadow: 0px 1px 2px rgba(60, 64, 67, 0.3), 0px 1px 3px 1px rgba(60, 64, 67, 0.15);\n",
              "      fill: #174EA6;\n",
              "    }\n",
              "\n",
              "    [theme=dark] .colab-df-convert {\n",
              "      background-color: #3B4455;\n",
              "      fill: #D2E3FC;\n",
              "    }\n",
              "\n",
              "    [theme=dark] .colab-df-convert:hover {\n",
              "      background-color: #434B5C;\n",
              "      box-shadow: 0px 1px 3px 1px rgba(0, 0, 0, 0.15);\n",
              "      filter: drop-shadow(0px 1px 2px rgba(0, 0, 0, 0.3));\n",
              "      fill: #FFFFFF;\n",
              "    }\n",
              "  </style>\n",
              "\n",
              "      <script>\n",
              "        const buttonEl =\n",
              "          document.querySelector('#df-8b09b72a-3b14-47fe-8380-03f535309cef button.colab-df-convert');\n",
              "        buttonEl.style.display =\n",
              "          google.colab.kernel.accessAllowed ? 'block' : 'none';\n",
              "\n",
              "        async function convertToInteractive(key) {\n",
              "          const element = document.querySelector('#df-8b09b72a-3b14-47fe-8380-03f535309cef');\n",
              "          const dataTable =\n",
              "            await google.colab.kernel.invokeFunction('convertToInteractive',\n",
              "                                                     [key], {});\n",
              "          if (!dataTable) return;\n",
              "\n",
              "          const docLinkHtml = 'Like what you see? Visit the ' +\n",
              "            '<a target=\"_blank\" href=https://colab.research.google.com/notebooks/data_table.ipynb>data table notebook</a>'\n",
              "            + ' to learn more about interactive tables.';\n",
              "          element.innerHTML = '';\n",
              "          dataTable['output_type'] = 'display_data';\n",
              "          await google.colab.output.renderOutput(dataTable, element);\n",
              "          const docLink = document.createElement('div');\n",
              "          docLink.innerHTML = docLinkHtml;\n",
              "          element.appendChild(docLink);\n",
              "        }\n",
              "      </script>\n",
              "    </div>\n",
              "  </div>\n",
              "  "
            ]
          },
          "metadata": {},
          "execution_count": 31
        }
      ]
    },
    {
      "cell_type": "code",
      "source": [
        "tablenew0 = table_data_all.loc[0.0]\n",
        "tablenew1 = table_data_all.loc[1.0]\n",
        "tablenew2 = table_data_all.loc[2.0]\n",
        "tablenew3 = table_data_all.loc[3.0]\n",
        "tablenew4 = table_data_all.loc[4.0]\n",
        "tablenew5 = table_data_all.loc[5.0]\n",
        "tablenew6 = table_data_all.loc[6.0]\n",
        "tablenew7 = table_data_all.loc[7.0]\n",
        "tablenew8 = table_data_all.loc[8.0]\n",
        "tablenew9 = table_data_all.loc[9.0]"
      ],
      "metadata": {
        "id": "2GkEbiQQTwu-"
      },
      "execution_count": 10,
      "outputs": []
    },
    {
      "cell_type": "code",
      "source": [
        "tablenew0.plot(x ='Y', y='e', kind = 'scatter')\n",
        "tablenew1.plot(x ='Y', y='e', kind = 'scatter')\n",
        "tablenew2.plot(x ='Y', y='e', kind = 'scatter')\n",
        "tablenew3.plot(x ='Y', y='e', kind = 'scatter')\n",
        "tablenew4.plot(x ='Y', y='e', kind = 'scatter')\n",
        "tablenew5.plot(x ='Y', y='e', kind = 'scatter')\n",
        "tablenew6.plot(x ='Y', y='e', kind = 'scatter')\n",
        "tablenew7.plot(x ='Y', y='e', kind = 'scatter')\n",
        "tablenew8.plot(x ='Y', y='e', kind = 'scatter')\n",
        "tablenew9.plot(x ='Y', y='e', kind = 'scatter')"
      ],
      "metadata": {
        "colab": {
          "base_uri": "https://localhost:8080/",
          "height": 1000
        },
        "id": "mFkg_VKHUDrp",
        "outputId": "800fc485-4df2-48cb-af7e-6e31232e0a13"
      },
      "execution_count": 11,
      "outputs": [
        {
          "output_type": "execute_result",
          "data": {
            "text/plain": [
              "<matplotlib.axes._subplots.AxesSubplot at 0x7fbc00011310>"
            ]
          },
          "metadata": {},
          "execution_count": 11
        },
        {
          "output_type": "display_data",
          "data": {
            "text/plain": [
              "<Figure size 432x288 with 1 Axes>"
            ],
            "image/png": "[encoded data removed]"
          },
          "metadata": {
            "needs_background": "light"
          }
        },
        {
          "output_type": "display_data",
          "data": {
            "text/plain": [
              "<Figure size 432x288 with 1 Axes>"
            ],
            "image/png": "[encoded data removed]"
          },
          "metadata": {
            "needs_background": "light"
          }
        },
        {
          "output_type": "display_data",
          "data": {
            "text/plain": [
              "<Figure size 432x288 with 1 Axes>"
            ],
            "image/png": "[encoded data removed]"
          },
          "metadata": {
            "needs_background": "light"
          }
        },
        {
          "output_type": "display_data",
          "data": {
            "text/plain": [
              "<Figure size 432x288 with 1 Axes>"
            ],
            "image/png": "[encoded data removed]"
          },
          "metadata": {
            "needs_background": "light"
          }
        },
        {
          "output_type": "display_data",
          "data": {
            "text/plain": [
              "<Figure size 432x288 with 1 Axes>"
            ],
            "image/png": "[encoded data removed]"
          },
          "metadata": {
            "needs_background": "light"
          }
        },
        {
          "output_type": "display_data",
          "data": {
            "text/plain": [
              "<Figure size 432x288 with 1 Axes>"
            ],
            "image/png": "[encoded data removed]"
          },
          "metadata": {
            "needs_background": "light"
          }
        },
        {
          "output_type": "display_data",
          "data": {
            "text/plain": [
              "<Figure size 432x288 with 1 Axes>"
            ],
            "image/png": "[encoded data removed]"
          },
          "metadata": {
            "needs_background": "light"
          }
        },
        {
          "output_type": "display_data",
          "data": {
            "text/plain": [
              "<Figure size 432x288 with 1 Axes>"
            ],
            "image/png": "[encoded data removed]"
          },
          "metadata": {
            "needs_background": "light"
          }
        },
        {
          "output_type": "display_data",
          "data": {
            "text/plain": [
              "<Figure size 432x288 with 1 Axes>"
            ],
            "image/png": "[encoded data removed]"
          },
          "metadata": {
            "needs_background": "light"
          }
        },
        {
          "output_type": "display_data",
          "data": {
            "text/plain": [
              "<Figure size 432x288 with 1 Axes>"
            ],
            "image/png": "[encoded data removed]"
          },
          "metadata": {
            "needs_background": "light"
          }
        }
      ]
    },
    {
      "cell_type": "code",
      "metadata": {
        "colab": {
          "base_uri": "https://localhost:8080/",
          "height": 17
        },
        "id": "h5Qlst3U2Wnq",
        "outputId": "27765931-39aa-4d94-9b90-c7908f4c8e72"
      },
      "source": [
        "table_data_all.to_csv('data_groupwise_0.1_0.9_n20.csv')\n",
        "files.download('data_groupwise_0.1_0.9_n20.csv')"
      ],
      "execution_count": 32,
      "outputs": [
        {
          "output_type": "display_data",
          "data": {
            "text/plain": [
              "<IPython.core.display.Javascript object>"
            ],
            "application/javascript": [
              "\n",
              "    async function download(id, filename, size) {\n",
              "      if (!google.colab.kernel.accessAllowed) {\n",
              "        return;\n",
              "      }\n",
              "      const div = document.createElement('div');\n",
              "      const label = document.createElement('label');\n",
              "      label.textContent = `Downloading \"${filename}\": `;\n",
              "      div.appendChild(label);\n",
              "      const progress = document.createElement('progress');\n",
              "      progress.max = size;\n",
              "      div.appendChild(progress);\n",
              "      document.body.appendChild(div);\n",
              "\n",
              "      const buffers = [];\n",
              "      let downloaded = 0;\n",
              "\n",
              "      const channel = await google.colab.kernel.comms.open(id);\n",
              "      // Send a message to notify the kernel that we're ready.\n",
              "      channel.send({})\n",
              "\n",
              "      for await (const message of channel.messages) {\n",
              "        // Send a message to notify the kernel that we're ready.\n",
              "        channel.send({})\n",
              "        if (message.buffers) {\n",
              "          for (const buffer of message.buffers) {\n",
              "            buffers.push(buffer);\n",
              "            downloaded += buffer.byteLength;\n",
              "            progress.value = downloaded;\n",
              "          }\n",
              "        }\n",
              "      }\n",
              "      const blob = new Blob(buffers, {type: 'application/binary'});\n",
              "      const a = document.createElement('a');\n",
              "      a.href = window.URL.createObjectURL(blob);\n",
              "      a.download = filename;\n",
              "      div.appendChild(a);\n",
              "      a.click();\n",
              "      div.remove();\n",
              "    }\n",
              "  "
            ]
          },
          "metadata": {}
        },
        {
          "output_type": "display_data",
          "data": {
            "text/plain": [
              "<IPython.core.display.Javascript object>"
            ],
            "application/javascript": [
              "download(\"download_d853afbd-feae-4596-84f0-03c646d235c5\", \"data_groupwise_0.1_0.9_n20.csv\", 3194446)"
            ]
          },
          "metadata": {}
        }
      ]
    }
  ]
}